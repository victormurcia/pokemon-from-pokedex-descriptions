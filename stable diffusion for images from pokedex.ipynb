{
  "nbformat": 4,
  "nbformat_minor": 0,
  "metadata": {
    "colab": {
      "private_outputs": true,
      "provenance": []
    },
    "kernelspec": {
      "name": "python3",
      "display_name": "Python 3"
    },
    "language_info": {
      "name": "python"
    },
    "accelerator": "GPU",
    "gpuClass": "standard"
  },
  "cells": [
    {
      "cell_type": "code",
      "execution_count": null,
      "metadata": {
        "id": "QuFz5uGi-h6G"
      },
      "outputs": [],
      "source": [
        "%pip install --quiet --upgrade diffusers transformers accelerate mediapy scipy ftfy spacy"
      ]
    },
    {
      "cell_type": "code",
      "source": [
        "# The xformers package is mandatory to be able to create several 768x768 images.\n",
        "github_url = \"https://github.com/brian6091/xformers-wheels\"\n",
        "xformer_id = \"0.0.15.dev0+4c06c79\"\n",
        "xformers_wheels = f\"xformers-{xformer_id}.d20221205-cp38-cp38-linux_x86_64.whl\"\n",
        "\n",
        "# Install xformers using pre-compiled Python wheels\n",
        "%pip install -q {github_url}/releases/download/{xformer_id}/{xformers_wheels}"
      ],
      "metadata": {
        "id": "oP_dBQpSCIkY"
      },
      "execution_count": null,
      "outputs": []
    },
    {
      "cell_type": "code",
      "source": [
        "# model_id = \"stabilityai/stable-diffusion-2-1-base\"\n",
        "# model_id = \"stabilityai/stable-diffusion-2-1\"\n",
        "model_id = \"dreamlike-art/dreamlike-photoreal-2.0\""
      ],
      "metadata": {
        "id": "GR4vF2bw-sHR"
      },
      "execution_count": null,
      "outputs": []
    },
    {
      "cell_type": "code",
      "source": [
        "from diffusers import PNDMScheduler, DDIMScheduler, LMSDiscreteScheduler, EulerDiscreteScheduler, DPMSolverMultistepScheduler\n",
        "\n",
        "scheduler = None\n",
        "# scheduler = PNDMScheduler.from_pretrained(model_id, subfolder=\"scheduler\")\n",
        "# scheduler = DDIMScheduler.from_pretrained(model_id, subfolder=\"scheduler\")\n",
        "# scheduler = LMSDiscreteScheduler.from_pretrained(model_id, subfolder=\"scheduler\")\n",
        "# scheduler = EulerDiscreteScheduler.from_pretrained(model_id, subfolder=\"scheduler\")\n",
        "# scheduler = DPMSolverMultistepScheduler.from_pretrained(model_id, subfolder=\"scheduler\")"
      ],
      "metadata": {
        "id": "vF9Q0xKX8gLR"
      },
      "execution_count": null,
      "outputs": []
    },
    {
      "cell_type": "code",
      "source": [
        "from google.colab import drive\n",
        "drive.mount('/content/drive')"
      ],
      "metadata": {
        "id": "y8yRt7Kchl97"
      },
      "execution_count": null,
      "outputs": []
    },
    {
      "cell_type": "code",
      "source": [
        "import mediapy as media\n",
        "import torch\n",
        "from diffusers import StableDiffusionPipeline\n",
        "\n",
        "device = \"cuda\"\n",
        "\n",
        "if model_id.startswith(\"stabilityai/\"):\n",
        "  model_revision = \"fp16\"\n",
        "else:\n",
        "  model_revision = None\n",
        "\n",
        "if scheduler is None:\n",
        "  pipe = StableDiffusionPipeline.from_pretrained(\n",
        "      model_id,\n",
        "      torch_dtype=torch.float16,\n",
        "      revision=model_revision,\n",
        "      )  \n",
        "else:\n",
        "  pipe = StableDiffusionPipeline.from_pretrained(\n",
        "      model_id,\n",
        "      scheduler=scheduler,\n",
        "      torch_dtype=torch.float16,\n",
        "      revision=model_revision,\n",
        "      )\n",
        "\n",
        "pipe = pipe.to(device)\n",
        "pipe.enable_xformers_memory_efficient_attention()\n",
        "\n",
        "if model_id.endswith('-base'):\n",
        "  image_length = 512\n",
        "else:\n",
        "  image_length = 768\n"
      ],
      "metadata": {
        "id": "bG2hkmSEvByV"
      },
      "execution_count": null,
      "outputs": []
    },
    {
      "cell_type": "code",
      "source": [
        "#Install the Pokedex API to get Pokemon data. I want this for the Pokemon descriptions. These will serve as the prompts.\n",
        "%pip install git+https://github.com/arnavb/pypokedex.git@master"
      ],
      "metadata": {
        "id": "dagSJ3ZiyUYx"
      },
      "execution_count": null,
      "outputs": []
    },
    {
      "cell_type": "code",
      "source": [
        "import pypokedex\n",
        "#Specify which Pokemon we want to query using its ID number and from what game to get the description from\n",
        "DEX = 4\n",
        "VER = 'yellow'\n",
        "\n",
        "#Specify which Pokemon we want to query using its ID number\n",
        "pokemon = pypokedex.get(dex=DEX)\n",
        "print(pokemon)\n",
        "\n",
        "#This is the name of the Pokemon we are querying\n",
        "poke_name = pokemon.name\n",
        "\n",
        "#This is the PokeDex desciption for the current Pokemon\n",
        "yellow_description = pokemon.get_descriptions()[VER]\n",
        "\n",
        "#This is the prompt I'll feed to the AI \n",
        "prompt = poke_name + \" \" + yellow_description\n",
        "print(prompt)"
      ],
      "metadata": {
        "id": "Phn9yuV0yzjB"
      },
      "execution_count": null,
      "outputs": []
    },
    {
      "cell_type": "code",
      "source": [
        "remove_safety = False\n",
        "num_images = 4\n",
        "\n",
        "if remove_safety:\n",
        "  negative_prompt = None\n",
        "else:\n",
        "  negative_prompt = \"nude, naked\"\n",
        "\n",
        "images = pipe(\n",
        "    prompt,\n",
        "    height = image_length,\n",
        "    width = image_length,\n",
        "    num_inference_steps = 25,\n",
        "    guidance_scale = 9,\n",
        "    num_images_per_prompt = num_images,\n",
        "    negative_prompt = negative_prompt,\n",
        "    ).images\n",
        "    \n",
        "media.show_images(images)\n",
        "#images[0].save(r'output.jpg')"
      ],
      "metadata": {
        "id": "PBmyVHG1z2eI"
      },
      "execution_count": null,
      "outputs": []
    },
    {
      "cell_type": "code",
      "source": [
        "import pypokedex\n",
        "\n",
        "def get_concat_h(im1, im2):\n",
        "    dst = Image.new('RGB', (im1.width + im2.width, im1.height))\n",
        "    dst.paste(im1, (0, 0))\n",
        "    dst.paste(im2, (im1.width, 0))\n",
        "    return dst\n",
        "\n",
        "def get_concat_h_multi_blank(im_list):\n",
        "    _im = im_list.pop(0)\n",
        "    for im in im_list:\n",
        "        _im = get_concat_h(_im, im)\n",
        "    return _im\n",
        "    \n",
        "def makePokemonFromPokedex(ver,nPokemon):\n",
        "  #Loop over nPokemons to get the descritptions and generate images for each\n",
        "  #poke_id = 1\n",
        "  for poke_id in range(1, nPokemon+1, 1):\n",
        "    #print(poke_id)\n",
        "    #Specify which Pokemon we want to query using its ID number\n",
        "    pokemon = pypokedex.get(dex=poke_id)\n",
        "    #print(pokemon)\n",
        "\n",
        "    #This is the name of the Pokemon we are querying\n",
        "    poke_name = pokemon.name\n",
        "\n",
        "    #This is the PokeDex desciption for the current Pokemon\n",
        "    yellow_description = pokemon.get_descriptions()[ver]\n",
        "\n",
        "    #This is the prompt I'll feed to the AI \n",
        "    prompt = poke_name + \" \" + yellow_description\n",
        "    #print(prompt)\n",
        "\n",
        "    remove_safety = False\n",
        "    num_images = 4\n",
        "\n",
        "    if remove_safety:\n",
        "      negative_prompt = None\n",
        "    else:\n",
        "      negative_prompt = \"nude, naked\"\n",
        "\n",
        "    images = pipe(\n",
        "        prompt,\n",
        "        height = image_length,\n",
        "        width = image_length,\n",
        "        num_inference_steps = 25,\n",
        "        guidance_scale = 9,\n",
        "        num_images_per_prompt = num_images,\n",
        "        negative_prompt = negative_prompt,\n",
        "        ).images\n",
        "    \n",
        "    fname = 'poke_' + str(poke_id)\n",
        "    get_concat_h_multi_blank(images).save(fname + '.jpg')\n",
        "#get_concat_h_multi_blank(images).save('test2.jpg')\n"
      ],
      "metadata": {
        "id": "YrIO94GyVloN"
      },
      "execution_count": null,
      "outputs": []
    },
    {
      "cell_type": "code",
      "source": [
        "#get_concat_h(images[0], images[1]).save('grid0.jpg')\n",
        "#img1 = append_images([images[0], images[1]], direction='horizontal')\n",
        "#img2 = append_images([image512, image1024], direction='horizontal')\n",
        "#final = append_images([img1, img2], direction='vertical')\n",
        "#final.save(\"Test/test.jpg\")"
      ],
      "metadata": {
        "id": "dd-pe36WVHdh"
      },
      "execution_count": null,
      "outputs": []
    },
    {
      "cell_type": "code",
      "source": [
        "def makePokemonFromPokedex(ver,nPokemon):\n",
        "  #Loop over nPokemons to get the descritptions and generate images for each\n",
        "  #poke_id = 1\n",
        "  for poke_id in range(1, nPokemon+1, 1):\n",
        "    #print(poke_id)\n",
        "    #Specify which Pokemon we want to query using its ID number\n",
        "    pokemon = pypokedex.get(dex=poke_id)\n",
        "    #print(pokemon)\n",
        "\n",
        "    #This is the name of the Pokemon we are querying\n",
        "    poke_name = pokemon.name\n",
        "\n",
        "    #This is the PokeDex desciption for the current Pokemon\n",
        "    yellow_description = pokemon.get_descriptions()[ver]\n",
        "\n",
        "    #This is the prompt I'll feed to the AI \n",
        "    prompt = poke_name + \" \" + yellow_description\n",
        "    #print(prompt)\n",
        "\n",
        "    remove_safety = False\n",
        "    num_images = 4\n",
        "\n",
        "    if remove_safety:\n",
        "      negative_prompt = None\n",
        "    else:\n",
        "      negative_prompt = \"nude, naked\"\n",
        "\n",
        "    images = pipe(\n",
        "        prompt,\n",
        "        height = image_length,\n",
        "        width = image_length,\n",
        "        num_inference_steps = 25,\n",
        "        guidance_scale = 9,\n",
        "        num_images_per_prompt = num_images,\n",
        "        negative_prompt = negative_prompt,\n",
        "        ).images\n",
        "    \n",
        "    fname = '/content/AI_Pokemon/poke_' + str(poke_id)\n",
        "    get_concat_h_multi_blank(images).save(fname + '.jpg')\n",
        "   \n",
        "  #media.show_images(images)\n",
        "  #images[0].save(r'output.jpg')"
      ],
      "metadata": {
        "id": "Uq2CSjVieBz_"
      },
      "execution_count": null,
      "outputs": []
    },
    {
      "cell_type": "code",
      "source": [
        "!pip install Pillow"
      ],
      "metadata": {
        "id": "L6mN8Z9hFfYS"
      },
      "execution_count": null,
      "outputs": []
    },
    {
      "cell_type": "code",
      "source": [
        "import PIL\n",
        "from PIL import Image\n",
        "print(PIL.PILLOW_VERSION)"
      ],
      "metadata": {
        "id": "CREi8m3fFlFS"
      },
      "execution_count": null,
      "outputs": []
    },
    {
      "cell_type": "code",
      "source": [
        "makePokemonFromPokedex('yellow',150)"
      ],
      "metadata": {
        "id": "_JEVjLoGwKVn"
      },
      "execution_count": null,
      "outputs": []
    },
    {
      "cell_type": "code",
      "source": [
        "DEX = 1\n",
        "VER = 'yellow'\n",
        "\n",
        "#Specify which Pokemon we want to query using its ID number\n",
        "pokemon = pypokedex.get(dex=DEX)\n",
        "print(pokemon)\n",
        "\n",
        "#This is the name of the Pokemon we are querying\n",
        "poke_name = pokemon.name\n",
        "\n",
        "#This is the PokeDex desciption for the current Pokemon\n",
        "yellow_description = pokemon.get_descriptions()[VER]\n",
        "\n",
        "#This is the prompt I'll feed to the AI \n",
        "prompt = poke_name + \" \" + yellow_description\n",
        "print(prompt)\n",
        "\n",
        "remove_safety = False\n",
        "num_images = 4\n",
        "\n",
        "if remove_safety:\n",
        "  negative_prompt = None\n",
        "else:\n",
        "  negative_prompt = \"nude, naked\"\n",
        "\n",
        "images = pipe(\n",
        "    prompt,\n",
        "    height = image_length,\n",
        "    width = image_length,\n",
        "    num_inference_steps = 25,\n",
        "    guidance_scale = 9,\n",
        "    num_images_per_prompt = num_images,\n",
        "    negative_prompt = negative_prompt,\n",
        "    ).images\n",
        "    \n",
        "media.show_images(images)\n",
        "images[0].save(r'output.jpg')"
      ],
      "metadata": {
        "id": "cOZqhNw0Rw7T"
      },
      "execution_count": null,
      "outputs": []
    },
    {
      "cell_type": "code",
      "source": [
        "from google.colab import files"
      ],
      "metadata": {
        "id": "E2cjDCXlikH3"
      },
      "execution_count": null,
      "outputs": []
    },
    {
      "cell_type": "code",
      "source": [
        "!zip -r /content/AI_Pokemon/sample_data.zip /content/AI_Pokemon"
      ],
      "metadata": {
        "id": "x2QJvBNujNdt"
      },
      "execution_count": null,
      "outputs": []
    },
    {
      "cell_type": "code",
      "source": [
        "DEX = 1\n",
        "VER = 'yellow'\n",
        "\n",
        "#Specify which Pokemon we want to query using its ID number\n",
        "pokemon = pypokedex.get(dex=DEX)\n",
        "print(pokemon)\n",
        "\n",
        "#This is the name of the Pokemon we are querying\n",
        "poke_name = pokemon.name\n",
        "\n",
        "#This is the PokeDex desciption for the current Pokemon\n",
        "yellow_description = pokemon.get_descriptions()[VER]\n",
        "\n",
        "#This is the prompt I'll feed to the AI \n",
        "prompt = poke_name + \" \" + yellow_description\n",
        "print(prompt)\n",
        "\n",
        "remove_safety = False\n",
        "num_images = 4\n",
        "\n",
        "if remove_safety:\n",
        "  negative_prompt = None\n",
        "else:\n",
        "  negative_prompt = \"nude, naked\"\n",
        "\n",
        "images = pipe(\n",
        "    prompt,\n",
        "    height = image_length,\n",
        "    width = image_length,\n",
        "    num_inference_steps = 25,\n",
        "    guidance_scale = 9,\n",
        "    num_images_per_prompt = num_images,\n",
        "    negative_prompt = negative_prompt,\n",
        "    ).images\n",
        "    \n",
        "media.show_images(images)\n",
        "images[0].save(r'output.jpg')"
      ],
      "metadata": {
        "id": "o_WQ7GR6q6sq"
      },
      "execution_count": null,
      "outputs": []
    },
    {
      "cell_type": "code",
      "source": [
        "with open('example.txt', 'w') as f:\n",
        "  f.write('some content')\n",
        "\n",
        "files.download('example.txt')"
      ],
      "metadata": {
        "id": "lGgvkvnRWh1i"
      },
      "execution_count": null,
      "outputs": []
    }
  ]
}